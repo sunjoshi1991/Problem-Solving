{
 "cells": [
  {
   "cell_type": "code",
   "execution_count": 21,
   "metadata": {},
   "outputs": [
    {
     "name": "stdout",
     "output_type": "stream",
     "text": [
      "element found 7  , at index : 3\n"
     ]
    }
   ],
   "source": [
    "### linear search\n",
    "\n",
    "def lin_srch(A,k):\n",
    "    for i in range(0,len(A)):\n",
    "        if A[i]==k:\n",
    "            print('element found {}'.format(A[i]),   ' , at index :', i)\n",
    "    return \n",
    "        \n",
    "lin_srch([1,4,6,7,8] , 7)\n"
   ]
  },
  {
   "cell_type": "code",
   "execution_count": 2,
   "metadata": {},
   "outputs": [
    {
     "data": {
      "text/plain": [
       "2"
      ]
     },
     "execution_count": 2,
     "metadata": {},
     "output_type": "execute_result"
    }
   ],
   "source": [
    "### binary search\n",
    "\n",
    "\n",
    "def binary_serch(A,k):\n",
    "    l = 0\n",
    "    r = len(A)-1\n",
    "    while l <=r:\n",
    "        m = (l+r)//2\n",
    "        if A[m]==k:\n",
    "            return m\n",
    "        elif A[m]<k:\n",
    "            l = m+1\n",
    "        else:\n",
    "            r = m-1\n",
    "    return -1\n",
    "binary_serch([1,3,4,5] , 4)"
   ]
  },
  {
   "cell_type": "code",
   "execution_count": null,
   "metadata": {},
   "outputs": [],
   "source": []
  }
 ],
 "metadata": {
  "kernelspec": {
   "display_name": "Python 3",
   "language": "python",
   "name": "python3"
  },
  "language_info": {
   "codemirror_mode": {
    "name": "ipython",
    "version": 3
   },
   "file_extension": ".py",
   "mimetype": "text/x-python",
   "name": "python",
   "nbconvert_exporter": "python",
   "pygments_lexer": "ipython3",
   "version": "3.7.2"
  }
 },
 "nbformat": 4,
 "nbformat_minor": 2
}
