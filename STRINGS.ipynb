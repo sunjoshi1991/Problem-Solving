{
 "cells": [
  {
   "cell_type": "code",
   "execution_count": 1,
   "metadata": {},
   "outputs": [
    {
     "data": {
      "text/plain": [
       "'atad'"
      ]
     },
     "execution_count": 1,
     "metadata": {},
     "output_type": "execute_result"
    }
   ],
   "source": [
    "#### REVERSE STRING\n",
    "def rev_str1(s):\n",
    "    return s[::-1]\n",
    "rev_str('data')"
   ]
  },
  {
   "cell_type": "code",
   "execution_count": 2,
   "metadata": {},
   "outputs": [
    {
     "data": {
      "text/plain": [
       "'gnirts'"
      ]
     },
     "execution_count": 2,
     "metadata": {},
     "output_type": "execute_result"
    }
   ],
   "source": [
    "def rev_str2(s):\n",
    "    st = ''\n",
    "    for i in s:\n",
    "        st = i + st\n",
    "    return st\n",
    "\n",
    "rev_str2('string') \n",
    "        "
   ]
  },
  {
   "cell_type": "code",
   "execution_count": 5,
   "metadata": {},
   "outputs": [
    {
     "data": {
      "text/plain": [
       "'ecneics atad'"
      ]
     },
     "execution_count": 5,
     "metadata": {},
     "output_type": "execute_result"
    }
   ],
   "source": [
    "def rev_str3(s):\n",
    "    if len(s)==1:\n",
    "        return s\n",
    "    else:\n",
    "        return rev_str3(s[1:])+s[0]\n",
    "rev_str3('data science')\n"
   ]
  },
  {
   "cell_type": "code",
   "execution_count": 6,
   "metadata": {},
   "outputs": [
    {
     "name": "stdout",
     "output_type": "stream",
     "text": [
      "not anagrams\n"
     ]
    }
   ],
   "source": [
    "#### anagram check\n",
    "def anagram(s1,s2):\n",
    "    if sorted(s1)==sorted(s2):\n",
    "        print('anagrams')\n",
    "    else:\n",
    "        print('not anagrams')\n",
    "anagram('sklearn','scikitlearn')\n",
    "    "
   ]
  },
  {
   "cell_type": "code",
   "execution_count": 7,
   "metadata": {},
   "outputs": [
    {
     "data": {
      "text/plain": [
       "3"
      ]
     },
     "execution_count": 7,
     "metadata": {},
     "output_type": "execute_result"
    }
   ],
   "source": [
    "### vowel count in a string\n",
    "\n",
    "def vowel_count(s):\n",
    "    cnt = 0\n",
    "    vowels = ('aeiouAEIOU')\n",
    "    for i in s:\n",
    "        if i in vowels:\n",
    "            cnt +=1\n",
    "    return cnt\n",
    "\n",
    "vowel_count('pythonforall')"
   ]
  },
  {
   "cell_type": "code",
   "execution_count": 8,
   "metadata": {},
   "outputs": [
    {
     "data": {
      "text/plain": [
       "True"
      ]
     },
     "execution_count": 8,
     "metadata": {},
     "output_type": "execute_result"
    }
   ],
   "source": [
    "### panagarm check\n",
    "def panagram(s):\n",
    "    alphabets = 'abcdefghijklmnopqrstuvwxyz'\n",
    "    for char in alphabets:\n",
    "        if char not in s:\n",
    "            return False\n",
    "        else:\n",
    "            return True\n",
    "panagram('Sphinx of black quartz, judge my vow”: Used by Adobe InDesign to display font samples')\n"
   ]
  },
  {
   "cell_type": "code",
   "execution_count": 9,
   "metadata": {},
   "outputs": [
    {
     "data": {
      "text/plain": [
       "'Balanced'"
      ]
     },
     "execution_count": 9,
     "metadata": {},
     "output_type": "execute_result"
    }
   ],
   "source": [
    "### balanced paranthesis using stack , as insertion and deletion are 0(1)\n",
    "op = ['(','[','{']\n",
    "cl = [')',']','}']\n",
    "def balanced_paranethsis(s):\n",
    "    stack = []\n",
    "    for i in s:\n",
    "        if i in op:\n",
    "            stack.append(i)\n",
    "        elif i in cl:\n",
    "            pos = cl.index(i)\n",
    "            if (len(stack)>0 and op[pos]==stack[len(stack)-1]):\n",
    "                stack.pop()\n",
    "            else:\n",
    "                return 'Unbalanced'\n",
    "        if len(stack)==0:\n",
    "            return 'Balanced'\n",
    "balanced_paranethsis('{[]{()}}')"
   ]
  },
  {
   "cell_type": "code",
   "execution_count": 13,
   "metadata": {},
   "outputs": [
    {
     "data": {
      "text/plain": [
       "7"
      ]
     },
     "execution_count": 13,
     "metadata": {},
     "output_type": "execute_result"
    }
   ],
   "source": [
    "### count words in a string\n",
    "\n",
    "in_ = 1\n",
    "out = 0\n",
    "def cnt_words(s):\n",
    "    flag = out\n",
    "    cnt = 0\n",
    "    for i in range(len(s)):\n",
    "        if (s[i]== ' ' or s[i]=='\\n' or s[i]== '\\t'):\n",
    "            flag = out\n",
    "        elif flag ==out:\n",
    "            flag = in_\n",
    "            cnt +=1\n",
    "    return cnt\n",
    "cnt_words('i want to become a data scientist')\n",
    "    "
   ]
  },
  {
   "cell_type": "code",
   "execution_count": 25,
   "metadata": {},
   "outputs": [
    {
     "name": "stdout",
     "output_type": "stream",
     "text": [
      "False\n"
     ]
    },
    {
     "data": {
      "text/plain": [
       "True"
      ]
     },
     "execution_count": 25,
     "metadata": {},
     "output_type": "execute_result"
    }
   ],
   "source": [
    "### palindrome check\n",
    "def palindrome(s):\n",
    "    st = ''\n",
    "    for i in s:\n",
    "        st = i +st\n",
    "        if s == st:\n",
    "            return True\n",
    "    return False\n",
    "print(palindrome('machine'))\n",
    "palindrome('malayalam')\n"
   ]
  },
  {
   "cell_type": "code",
   "execution_count": null,
   "metadata": {},
   "outputs": [],
   "source": []
  },
  {
   "cell_type": "code",
   "execution_count": null,
   "metadata": {},
   "outputs": [],
   "source": []
  },
  {
   "cell_type": "code",
   "execution_count": null,
   "metadata": {},
   "outputs": [],
   "source": []
  },
  {
   "cell_type": "code",
   "execution_count": null,
   "metadata": {},
   "outputs": [],
   "source": []
  },
  {
   "cell_type": "code",
   "execution_count": null,
   "metadata": {},
   "outputs": [],
   "source": []
  },
  {
   "cell_type": "code",
   "execution_count": null,
   "metadata": {},
   "outputs": [],
   "source": []
  },
  {
   "cell_type": "code",
   "execution_count": null,
   "metadata": {},
   "outputs": [],
   "source": []
  }
 ],
 "metadata": {
  "kernelspec": {
   "display_name": "Python 3",
   "language": "python",
   "name": "python3"
  },
  "language_info": {
   "codemirror_mode": {
    "name": "ipython",
    "version": 3
   },
   "file_extension": ".py",
   "mimetype": "text/x-python",
   "name": "python",
   "nbconvert_exporter": "python",
   "pygments_lexer": "ipython3",
   "version": "3.7.2"
  }
 },
 "nbformat": 4,
 "nbformat_minor": 2
}
