{
 "cells": [
  {
   "cell_type": "code",
   "execution_count": 9,
   "metadata": {},
   "outputs": [
    {
     "name": "stdout",
     "output_type": "stream",
     "text": [
      "max sub arr sum is : 7\n"
     ]
    }
   ],
   "source": [
    "def maxsubarr(A,n):\n",
    "    max_so_far = 0\n",
    "    max_ending_here = 0\n",
    "    for i in range(0,n):\n",
    "        max_ending_here = max_ending_here+A[i]\n",
    "        if max_ending_here <0 :\n",
    "            max_ending_here = 0\n",
    "        elif max_so_far < max_ending_here:\n",
    "            max_so_far = max_ending_here\n",
    "            \n",
    "    return max_so_far\n",
    "\n",
    "A = [-2, -3, 4, -1, -2, 1, 5, -3]\n",
    "n = len(A)\n",
    "ans = maxsubarr(A,n)\n",
    "print(\"max sub arr sum is :\", ans)"
   ]
  },
  {
   "cell_type": "code",
   "execution_count": 24,
   "metadata": {},
   "outputs": [
    {
     "name": "stdout",
     "output_type": "stream",
     "text": [
      "missing num is : 6\n"
     ]
    }
   ],
   "source": [
    "def missing(A):\n",
    "    n = len(A)\n",
    "    tot= (n+1)*(n+2)//2\n",
    "    sum_arr = sum(A)\n",
    "    return tot-sum_arr\n",
    "\n",
    "A = [1,2,3,4,5,7]\n",
    "ans = missing(A)\n",
    "print('missing num is :', ans)"
   ]
  },
  {
   "cell_type": "code",
   "execution_count": 29,
   "metadata": {},
   "outputs": [
    {
     "name": "stdout",
     "output_type": "stream",
     "text": [
      "missing num is : 6\n"
     ]
    }
   ],
   "source": [
    "def missing(A,n):\n",
    "    x1 = A[0]\n",
    "    x2 =1\n",
    "    for i in range(1,n):\n",
    "        x1 = x1 ^ A[i]\n",
    "    for j in range(2,n+2):\n",
    "        x2 = x2 ^ j\n",
    "    return x1 ^ x2\n",
    "\n",
    "A = [1,2,3,4,5,7]\n",
    "ans = missing(A,len(A))\n",
    "print('missing num is :', ans)"
   ]
  },
  {
   "cell_type": "code",
   "execution_count": 52,
   "metadata": {},
   "outputs": [
    {
     "ename": "TypeError",
     "evalue": "'>' not supported between instances of 'int' and 'builtin_function_or_method'",
     "output_type": "error",
     "traceback": [
      "\u001b[0;31m---------------------------------------------------------------------------\u001b[0m",
      "\u001b[0;31mTypeError\u001b[0m                                 Traceback (most recent call last)",
      "\u001b[0;32m<ipython-input-52-9f02067af43e>\u001b[0m in \u001b[0;36m<module>\u001b[0;34m()\u001b[0m\n\u001b[1;32m     16\u001b[0m \u001b[0;34m\u001b[0m\u001b[0m\n\u001b[1;32m     17\u001b[0m \u001b[0mA\u001b[0m \u001b[0;34m=\u001b[0m \u001b[0;34m[\u001b[0m\u001b[0;36m15\u001b[0m\u001b[0;34m,\u001b[0m \u001b[0;36m2\u001b[0m\u001b[0;34m,\u001b[0m \u001b[0;36m4\u001b[0m\u001b[0;34m,\u001b[0m \u001b[0;36m8\u001b[0m\u001b[0;34m,\u001b[0m \u001b[0;36m9\u001b[0m\u001b[0;34m,\u001b[0m \u001b[0;36m5\u001b[0m\u001b[0;34m,\u001b[0m \u001b[0;36m10\u001b[0m\u001b[0;34m,\u001b[0m \u001b[0;36m23\u001b[0m\u001b[0;34m]\u001b[0m\u001b[0;34m\u001b[0m\u001b[0m\n\u001b[0;32m---> 18\u001b[0;31m \u001b[0mans\u001b[0m \u001b[0;34m=\u001b[0m \u001b[0msub_arr_sum\u001b[0m\u001b[0;34m(\u001b[0m\u001b[0mA\u001b[0m\u001b[0;34m,\u001b[0m\u001b[0mlen\u001b[0m\u001b[0;34m(\u001b[0m\u001b[0mA\u001b[0m\u001b[0;34m)\u001b[0m\u001b[0;34m,\u001b[0m\u001b[0msum\u001b[0m\u001b[0;34m)\u001b[0m\u001b[0;34m\u001b[0m\u001b[0m\n\u001b[0m\u001b[1;32m     19\u001b[0m \u001b[0mprint\u001b[0m\u001b[0;34m(\u001b[0m\u001b[0;34m'ans'\u001b[0m\u001b[0;34m)\u001b[0m\u001b[0;34m\u001b[0m\u001b[0m\n\u001b[1;32m     20\u001b[0m \u001b[0;34m\u001b[0m\u001b[0m\n",
      "\u001b[0;32m<ipython-input-52-9f02067af43e>\u001b[0m in \u001b[0;36msub_arr_sum\u001b[0;34m(A, n, sum)\u001b[0m\n\u001b[1;32m      4\u001b[0m     \u001b[0mi\u001b[0m \u001b[0;34m=\u001b[0m \u001b[0;36m1\u001b[0m\u001b[0;34m\u001b[0m\u001b[0m\n\u001b[1;32m      5\u001b[0m     \u001b[0;32mwhile\u001b[0m \u001b[0mi\u001b[0m \u001b[0;34m<=\u001b[0m \u001b[0mn\u001b[0m\u001b[0;34m:\u001b[0m\u001b[0;34m\u001b[0m\u001b[0m\n\u001b[0;32m----> 6\u001b[0;31m         \u001b[0;32mwhile\u001b[0m \u001b[0mcur_sum\u001b[0m \u001b[0;34m>\u001b[0m \u001b[0msum\u001b[0m \u001b[0;32mand\u001b[0m \u001b[0mstart\u001b[0m \u001b[0;34m<\u001b[0m \u001b[0mi\u001b[0m\u001b[0;34m-\u001b[0m\u001b[0;36m1\u001b[0m\u001b[0;34m:\u001b[0m\u001b[0;34m\u001b[0m\u001b[0m\n\u001b[0m\u001b[1;32m      7\u001b[0m             \u001b[0mcur_sum\u001b[0m \u001b[0;34m=\u001b[0m \u001b[0mcur_sum\u001b[0m\u001b[0;34m-\u001b[0m\u001b[0mA\u001b[0m\u001b[0;34m[\u001b[0m\u001b[0mstart\u001b[0m\u001b[0;34m]\u001b[0m\u001b[0;34m\u001b[0m\u001b[0m\n\u001b[1;32m      8\u001b[0m             \u001b[0mstart\u001b[0m \u001b[0;34m+=\u001b[0m\u001b[0;36m1\u001b[0m\u001b[0;34m\u001b[0m\u001b[0m\n",
      "\u001b[0;31mTypeError\u001b[0m: '>' not supported between instances of 'int' and 'builtin_function_or_method'"
     ]
    }
   ],
   "source": [
    "def sub_arr_sum(A,n,sum):\n",
    "    cur_sum= A[0]\n",
    "    start = 0\n",
    "    i = 1\n",
    "    while i <= n:\n",
    "        while cur_sum > sum and start < i-1:\n",
    "            cur_sum = cur_sum-A[start]\n",
    "            start +=1\n",
    "        if cur_sum == sum:\n",
    "            print('%d and %d'%(start , i-1))\n",
    "            return True\n",
    "        if i < n:\n",
    "            cur_sum  = cur_sum + A[i]\n",
    "        i +=1\n",
    "    return False\n",
    "\n",
    "A = [15, 2, 4, 8, 9, 5, 10, 23] \n",
    "ans = sub_arr_sum(A,len(A),sum)\n",
    "print('ans')\n",
    "    "
   ]
  },
  {
   "cell_type": "code",
   "execution_count": 7,
   "metadata": {},
   "outputs": [
    {
     "name": "stdout",
     "output_type": "stream",
     "text": [
      "sorted 0,1,2 arr is : [0, 0, 0, 0, 0, 0, 0, 0, 0, 1, 1, 1, 1, 1, 1, 1, 1, 1, 1, 2, 2, 2, 2, 2, 2]\n"
     ]
    }
   ],
   "source": [
    "def sort012(A,n):\n",
    "    l = 0\n",
    "    h = n-1\n",
    "    m = 0\n",
    "    while m <= h:\n",
    "        if A[m] ==0:\n",
    "            A[l],A[m] = A[m],A[l]\n",
    "            l = l+1\n",
    "            m=m+1\n",
    "        elif A[m]==1:\n",
    "            m = m+1\n",
    "        else:\n",
    "            A[m],A[h] = A[h],A[m]\n",
    "            h = h-1\n",
    "\n",
    "    return A\n",
    "\n",
    "A = [0,1,2,0,1,1,2,1,0,1,2,1,2,0,0,0,1,2,0,1,2,0,0,1,1]\n",
    "ans = sort012(A,len(A))\n",
    "print('sorted 0,1,2 arr is :',ans)"
   ]
  },
  {
   "cell_type": "code",
   "execution_count": 6,
   "metadata": {},
   "outputs": [
    {
     "name": "stdout",
     "output_type": "stream",
     "text": [
      "2\n"
     ]
    }
   ],
   "source": [
    "def kthsmall(A,n,k):\n",
    "    A.sort()\n",
    "    return A[k-1]\n",
    "A= [1,2,2,4,3,5,6,7]\n",
    "n = len(A)\n",
    "k = 2\n",
    "ans = kthsmall(A,n,k)\n",
    "print(ans)"
   ]
  },
  {
   "cell_type": "code",
   "execution_count": 26,
   "metadata": {},
   "outputs": [
    {
     "name": "stdout",
     "output_type": "stream",
     "text": [
      "[6, 1, 2, 3, 5]\n"
     ]
    }
   ],
   "source": [
    "def rotate(A,n):\n",
    "    x =A[n-1]\n",
    "    for i in range(n-1,0,-1):\n",
    "        A[i] = A[i-1]\n",
    "    A[0] = x\n",
    "    return A\n",
    "    \n",
    "A = [1,2,3,5,6]\n",
    "ans = rotate(A,len(A))\n",
    "print(ans)"
   ]
  },
  {
   "cell_type": "code",
   "execution_count": 64,
   "metadata": {},
   "outputs": [
    {
     "name": "stdout",
     "output_type": "stream",
     "text": [
      "[5, 4, 3, 2, 1]\n"
     ]
    }
   ],
   "source": [
    "def revarr(A,s,e):\n",
    "    #n = len(A)\n",
    "    #s = 0\n",
    "    #e = n-1\n",
    "    while s<e:\n",
    "        A[s],A[e] = A[e],A[s]\n",
    "        s +=1\n",
    "        e -=1\n",
    "    return A\n",
    "\n",
    "A = [1,2,3,4,5]\n",
    "ans = revarr(A,0,4)\n",
    "print(ans)\n",
    "        \n",
    "        "
   ]
  },
  {
   "cell_type": "code",
   "execution_count": 82,
   "metadata": {},
   "outputs": [
    {
     "name": "stdout",
     "output_type": "stream",
     "text": [
      "[7, 6, 5, 4, 3, 2, 1]\n"
     ]
    }
   ],
   "source": [
    "###recursively\n",
    "def revarr(A,s,e):\n",
    "    if s >= e:\n",
    "        return \n",
    "    A[s],A[e] = A[e],A[s]\n",
    "    revarr(A,s+1,e-1)\n",
    "    return A\n",
    "    \n",
    "A = [1,2,3,4,5,6,7]\n",
    "ans = revarr(A,0,6)\n",
    "print(ans)\n",
    "    "
   ]
  },
  {
   "cell_type": "code",
   "execution_count": 98,
   "metadata": {},
   "outputs": [
    {
     "name": "stdout",
     "output_type": "stream",
     "text": [
      "([3, 1, 8, 5, 7], [0, 1, 2, 3, 4])\n"
     ]
    }
   ],
   "source": [
    "def reorder(A,k,n):\n",
    "    temp = [0] * n\n",
    "    for i in range(0,n):\n",
    "        temp[k[i]] =A[i]\n",
    "    for i in range(0,n):\n",
    "        A[i] = temp[i]\n",
    "        k[i]=i\n",
    "    return A,k\n",
    "A = [1,3,5,7,8]\n",
    "k = [1,0,3,4,2]\n",
    "ans = reorder(A,k,len(A))\n",
    "print(ans)"
   ]
  },
  {
   "cell_type": "code",
   "execution_count": 10,
   "metadata": {},
   "outputs": [
    {
     "name": "stdout",
     "output_type": "stream",
     "text": [
      "5\n"
     ]
    }
   ],
   "source": [
    "def removedup(A,n):\n",
    "    if n==0 or n==1:\n",
    "        return n\n",
    "    j = 0\n",
    "    \n",
    "    for i in range(0,n-1):\n",
    "        if A[i] != A[i+1]:\n",
    "            A[j]=A[i]\n",
    "            j +=1\n",
    "    A[j] = A[n-1]\n",
    "    j+=1\n",
    "    return j\n",
    "\n",
    "A = [1,2,2,2,3,4,4,5,5]  \n",
    "n = len(A)\n",
    "ans = removedup(A,n)\n",
    "print(ans)\n",
    "    "
   ]
  },
  {
   "cell_type": "code",
   "execution_count": 23,
   "metadata": {},
   "outputs": [
    {
     "name": "stdout",
     "output_type": "stream",
     "text": [
      "9999999999\n"
     ]
    }
   ],
   "source": [
    "def maxele(A):\n",
    "    maxi = A[0]\n",
    "    for i in range(len(A)):\n",
    "        if A[i]>maxi:\n",
    "            maxi = A[i]\n",
    "    return maxi\n",
    "\n",
    "A = [1,2,3,4,5,6,7,3,8,100,1000,10000000,9999999999]\n",
    "ans = maxele(A)\n",
    "print(ans)"
   ]
  },
  {
   "cell_type": "code",
   "execution_count": 14,
   "metadata": {},
   "outputs": [
    {
     "name": "stdout",
     "output_type": "stream",
     "text": [
      "True\n"
     ]
    }
   ],
   "source": [
    "def panagram(s):\n",
    "    l = []\n",
    "    for i in range(26):\n",
    "        l.append(False)\n",
    "    for j in s.lower():\n",
    "        if not j == ' ':\n",
    "            l[ord(j)-ord('a')] = True\n",
    "    for k in l:\n",
    "        if k == False:\n",
    "            return False\n",
    "    return True\n",
    " \n",
    "#s = 'i want to be a data scientist in google'\n",
    "s = \"The quick brown fox jumps over the little lazy dog\"\n",
    "\n",
    "ans = panagram(s)\n",
    "print(ans)"
   ]
  },
  {
   "cell_type": "code",
   "execution_count": 28,
   "metadata": {},
   "outputs": [
    {
     "name": "stdout",
     "output_type": "stream",
     "text": [
      "Welcome to GeeksforGeeks\n"
     ]
    }
   ],
   "source": [
    "def punctuation(s):\n",
    "    punctuations = '''!()-[]{};:'\"\\,<>./?@#$%^&*_~'''\n",
    "    for i in s.lower():\n",
    "        if i in punctuations:\n",
    "            s =s.replace(i,'')\n",
    "    print(s)\n",
    "    \n",
    "s = \"Welcome???@@##$ to#$% Geeks%$^for$%^&Geeks\"\n",
    "ans = punctuation(s)\n"
   ]
  },
  {
   "cell_type": "code",
   "execution_count": 1,
   "metadata": {},
   "outputs": [
    {
     "name": "stdout",
     "output_type": "stream",
     "text": [
      "True\n"
     ]
    }
   ],
   "source": [
    "def dup_str(s):\n",
    "    n = len(s)\n",
    "    for i in range(1,n):\n",
    "        if s[i] != s[0]:\n",
    "            return False\n",
    "    return True\n",
    "    \n",
    "    \n",
    "s = 'kkkkk'\n",
    "ans = dup_str(s)\n",
    "print(ans)"
   ]
  },
  {
   "cell_type": "code",
   "execution_count": 49,
   "metadata": {},
   "outputs": [
    {
     "name": "stdout",
     "output_type": "stream",
     "text": [
      "linus\n"
     ]
    }
   ],
   "source": [
    "def rev(s):\n",
    "    if len(s)==0:\n",
    "        return s\n",
    "    else:\n",
    "        return rev(s[1:])+s[0]\n",
    "\n",
    "s = 'sunil'\n",
    "ans = rev(s)\n",
    "print(ans)"
   ]
  },
  {
   "cell_type": "code",
   "execution_count": 50,
   "metadata": {},
   "outputs": [
    {
     "name": "stdout",
     "output_type": "stream",
     "text": [
      "no\n",
      "None\n"
     ]
    }
   ],
   "source": [
    "def sub_str(s1,s2):\n",
    "    if (s1.find(s2)==-1):\n",
    "        print('no')\n",
    "    else:\n",
    "        print('yes')\n",
    "\n",
    "s2 = 'kana'\n",
    "s1 = 'sunil joshi'\n",
    "ans = sub_str(s1,s2)\n",
    "print(ans)"
   ]
  },
  {
   "cell_type": "code",
   "execution_count": 2,
   "metadata": {},
   "outputs": [
    {
     "name": "stdout",
     "output_type": "stream",
     "text": [
      "1\n"
     ]
    }
   ],
   "source": [
    "def anagram(s1,s2):\n",
    "    l = len(s1)\n",
    "    m = len(s2)\n",
    "    if l != m :\n",
    "        return 0\n",
    "    s1 =sorted(s1)\n",
    "    s2 = sorted(s2)\n",
    "    for i in range(0,l):\n",
    "        if s1[i] != s2[i]:\n",
    "            return 0\n",
    "    return 1\n",
    "\n",
    "s1 = 'sun'\n",
    "s2 = 'nus'\n",
    "ans = anagram(s1,s2)\n",
    "print(ans)"
   ]
  },
  {
   "cell_type": "code",
   "execution_count": 113,
   "metadata": {},
   "outputs": [
    {
     "name": "stdout",
     "output_type": "stream",
     "text": [
      "malayalam \n",
      "False\n"
     ]
    }
   ],
   "source": [
    "def revr(s):\n",
    "    s1 = ' '\n",
    "    for i in s:\n",
    "        s1 = i + s1\n",
    "    return s1\n",
    "\n",
    "def palindrome(s):\n",
    "    rev = revr(s)\n",
    "    if (s==rev):\n",
    "        return True\n",
    "    else:\n",
    "        return False\n",
    "\n",
    "s = 'malayalam'\n",
    "print(revr(s))\n",
    "ans = palindrome(s)\n",
    "print(ans)\n"
   ]
  },
  {
   "cell_type": "code",
   "execution_count": 147,
   "metadata": {},
   "outputs": [
    {
     "name": "stdout",
     "output_type": "stream",
     "text": [
      "[1, 2, 3, 0, 0, 0, 0, 0]\n"
     ]
    }
   ],
   "source": [
    "def movezeros(A):\n",
    "    j = 0\n",
    "    for i,k in enumerate(A):\n",
    "        if k != 0:\n",
    "            A[i],A[j] = A[j],A[i]\n",
    "            j +=1\n",
    "    return A\n",
    "\n",
    "A = [0,1,0,2,0,0,3,0]\n",
    "ans = movezeros(A)\n",
    "print(ans)"
   ]
  },
  {
   "cell_type": "code",
   "execution_count": 167,
   "metadata": {},
   "outputs": [
    {
     "name": "stdout",
     "output_type": "stream",
     "text": [
      "3\n"
     ]
    }
   ],
   "source": [
    "def missing(A):\n",
    "    n = len(A)\n",
    "    tot= (n+1)*(n+2)//2\n",
    "    sum_A = sum(A)\n",
    "    return tot-sum_A\n",
    "\n",
    "A = [1,2,4,5,6]\n",
    "ans = missing(A)\n",
    "print(ans)"
   ]
  },
  {
   "cell_type": "code",
   "execution_count": 171,
   "metadata": {},
   "outputs": [
    {
     "name": "stdout",
     "output_type": "stream",
     "text": [
      "3\n"
     ]
    }
   ],
   "source": [
    "def missing(A,n):\n",
    "    n = len(A)\n",
    "    x = A[0]\n",
    "    y = 1\n",
    "    for i in range(1,n):\n",
    "        x = x ^ A[i]\n",
    "    for i in range(2,n+2):\n",
    "        y = y ^ i\n",
    "        \n",
    "    return x ^ y\n",
    "\n",
    "\n",
    "A = [1,2,4,5,6]\n",
    "ans = missing(A,n)\n",
    "print(ans)"
   ]
  },
  {
   "cell_type": "code",
   "execution_count": 267,
   "metadata": {},
   "outputs": [
    {
     "name": "stdout",
     "output_type": "stream",
     "text": [
      "True\n"
     ]
    }
   ],
   "source": [
    "def dup_ar(A):\n",
    "    s = set()\n",
    "    for i in A:\n",
    "        if i in s:\n",
    "            return True\n",
    "        else:\n",
    "            s.add(i)\n",
    "    return False\n",
    "\n",
    "\n",
    "A = [1,2,3,4,2]\n",
    "ans = dup_ar(A)\n",
    "print(ans)\n"
   ]
  },
  {
   "cell_type": "code",
   "execution_count": 12,
   "metadata": {},
   "outputs": [
    {
     "name": "stdout",
     "output_type": "stream",
     "text": [
      "[4, 5, 6, 1, 2, 3]\n"
     ]
    }
   ],
   "source": [
    "def rotate_arr(A,k):\n",
    "    n = len(A)\n",
    "    l = []\n",
    "    for i in range(n-k,n):\n",
    "        l.append(A[i])\n",
    "    for i in range(0,n-k):\n",
    "        l.append(A[i])\n",
    "    return l\n",
    "\n",
    "\n",
    "A = [1,2,3,4,5,6]\n",
    "k = 3\n",
    "ans = rotate_arr(A,k)\n",
    "print(ans)"
   ]
  },
  {
   "cell_type": "code",
   "execution_count": 92,
   "metadata": {},
   "outputs": [
    {
     "name": "stdout",
     "output_type": "stream",
     "text": [
      "2\n"
     ]
    }
   ],
   "source": [
    "def majority(A,n):\n",
    "    max_c = 0\n",
    "    index = -1\n",
    "    for i in range(n):\n",
    "        c = 0\n",
    "        for j in range(n):\n",
    "            if (A[i]==A[j]):\n",
    "                c +=1\n",
    "        if c > max_c:\n",
    "            max_c = c\n",
    "            index = i\n",
    "    if (max_c > n//2) :\n",
    "        print(A[index])\n",
    "    else:\n",
    "        print('no majority ele')\n",
    "\n",
    "A = [1,2,3,2,3,2,2,2,2]\n",
    "ans = majority(A,len(A))\n",
    "ans"
   ]
  },
  {
   "cell_type": "code",
   "execution_count": 112,
   "metadata": {},
   "outputs": [
    {
     "data": {
      "text/plain": [
       "[1, 2, 2, 3, 4, 2, 5, 6, 7]"
      ]
     },
     "execution_count": 112,
     "metadata": {},
     "output_type": "execute_result"
    }
   ],
   "source": [
    "def merge_arr(A,B,x,y):\n",
    "    C = [None]*(x+y)\n",
    "    i = 0\n",
    "    j = 0\n",
    "    k = 0\n",
    "    while i < x and j < y:\n",
    "        if A[i] < B[j]:\n",
    "            C[k] = A[i]\n",
    "            k = k+1\n",
    "            i = i+1\n",
    "        else:\n",
    "            C[k] = B[j]\n",
    "            k = k+1\n",
    "            j =j+1\n",
    "    while i <x:\n",
    "        C[k] = A[i];\n",
    "        k = k+1\n",
    "        i  = i+1\n",
    "    while j < y:\n",
    "        C[k] = B[j];\n",
    "        k =k+1\n",
    "        j =j+1\n",
    "        \n",
    "    return C\n",
    "\n",
    "\n",
    "A = [1,2,3,4,2]\n",
    "B = [2,5,6,7]\n",
    "x = len(A)\n",
    "y = len(B)\n",
    "ans = merge_arr(A,B,x,y)\n",
    "ans"
   ]
  },
  {
   "cell_type": "code",
   "execution_count": 159,
   "metadata": {},
   "outputs": [
    {
     "ename": "IndexError",
     "evalue": "list index out of range",
     "output_type": "error",
     "traceback": [
      "\u001b[0;31m---------------------------------------------------------------------------\u001b[0m",
      "\u001b[0;31mIndexError\u001b[0m                                Traceback (most recent call last)",
      "\u001b[0;32m<ipython-input-159-c139c626bc24>\u001b[0m in \u001b[0;36m<module>\u001b[0;34m()\u001b[0m\n\u001b[1;32m     16\u001b[0m \u001b[0;34m\u001b[0m\u001b[0m\n\u001b[1;32m     17\u001b[0m \u001b[0mA\u001b[0m \u001b[0;34m=\u001b[0m \u001b[0;34m[\u001b[0m\u001b[0;36m1\u001b[0m\u001b[0;34m,\u001b[0m\u001b[0;36m2\u001b[0m\u001b[0;34m,\u001b[0m\u001b[0;36m3\u001b[0m\u001b[0;34m,\u001b[0m\u001b[0;36m4\u001b[0m\u001b[0;34m,\u001b[0m\u001b[0;36m2\u001b[0m\u001b[0;34m]\u001b[0m\u001b[0;34m\u001b[0m\u001b[0m\n\u001b[0;32m---> 18\u001b[0;31m \u001b[0mans\u001b[0m \u001b[0;34m=\u001b[0m \u001b[0mremove_dup\u001b[0m\u001b[0;34m(\u001b[0m\u001b[0mA\u001b[0m\u001b[0;34m)\u001b[0m\u001b[0;34m\u001b[0m\u001b[0m\n\u001b[0m\u001b[1;32m     19\u001b[0m \u001b[0mans\u001b[0m\u001b[0;34m\u001b[0m\u001b[0m\n",
      "\u001b[0;32m<ipython-input-159-c139c626bc24>\u001b[0m in \u001b[0;36mremove_dup\u001b[0;34m(A)\u001b[0m\n\u001b[1;32m      5\u001b[0m     \u001b[0mn\u001b[0m \u001b[0;34m=\u001b[0m \u001b[0mlen\u001b[0m\u001b[0;34m(\u001b[0m\u001b[0mA\u001b[0m\u001b[0;34m)\u001b[0m\u001b[0;34m\u001b[0m\u001b[0m\n\u001b[1;32m      6\u001b[0m     \u001b[0;32mfor\u001b[0m \u001b[0mi\u001b[0m \u001b[0;32min\u001b[0m \u001b[0mrange\u001b[0m\u001b[0;34m(\u001b[0m\u001b[0;36m1\u001b[0m\u001b[0;34m,\u001b[0m\u001b[0mn\u001b[0m\u001b[0;34m)\u001b[0m\u001b[0;34m:\u001b[0m\u001b[0;34m\u001b[0m\u001b[0m\n\u001b[0;32m----> 7\u001b[0;31m         \u001b[0;32mif\u001b[0m \u001b[0mA\u001b[0m\u001b[0;34m[\u001b[0m\u001b[0mi\u001b[0m\u001b[0;34m]\u001b[0m \u001b[0;34m!=\u001b[0m \u001b[0mA\u001b[0m\u001b[0;34m[\u001b[0m\u001b[0mi\u001b[0m\u001b[0;34m+\u001b[0m\u001b[0;36m1\u001b[0m\u001b[0;34m]\u001b[0m\u001b[0;34m:\u001b[0m\u001b[0;34m\u001b[0m\u001b[0m\n\u001b[0m\u001b[1;32m      8\u001b[0m             \u001b[0mA\u001b[0m\u001b[0;34m[\u001b[0m\u001b[0mj\u001b[0m\u001b[0;34m]\u001b[0m \u001b[0;34m=\u001b[0m \u001b[0mA\u001b[0m\u001b[0;34m[\u001b[0m\u001b[0mi\u001b[0m\u001b[0;34m]\u001b[0m\u001b[0;34m\u001b[0m\u001b[0m\n\u001b[1;32m      9\u001b[0m             \u001b[0mj\u001b[0m\u001b[0;34m+=\u001b[0m\u001b[0;36m1\u001b[0m\u001b[0;34m\u001b[0m\u001b[0m\n",
      "\u001b[0;31mIndexError\u001b[0m: list index out of range"
     ]
    }
   ],
   "source": [
    "def remove_dup(A):\n",
    "    if len(A)==1:\n",
    "        return \n",
    "    j=0\n",
    "    n = len(A)\n",
    "    for i in range(1,n):\n",
    "        if A[i] != A[i+1]:\n",
    "            A[j] = A[i]\n",
    "            j+=1\n",
    "    A[j] = A[n-1]\n",
    "    j+=1\n",
    "    return j\n",
    "\n",
    "    \n",
    "    \n",
    "    \n",
    "\n",
    "\n"
   ]
  },
  {
   "cell_type": "code",
   "execution_count": 56,
   "metadata": {},
   "outputs": [
    {
     "name": "stdout",
     "output_type": "stream",
     "text": [
      "o\n"
     ]
    }
   ],
   "source": [
    "from collections import Counter\n",
    "def firstunique(s):\n",
    "    count = collections.Counter(s)\n",
    "    i = 0\n",
    "    for ch in s:\n",
    "        if count[ch]==1:\n",
    "            return s[i]\n",
    "        else:\n",
    "            i +=1\n",
    "    return -1\n",
    "\n",
    "\n",
    "s = 'monsum'\n",
    "print(firstunique(s))"
   ]
  },
  {
   "cell_type": "code",
   "execution_count": 75,
   "metadata": {},
   "outputs": [
    {
     "name": "stdout",
     "output_type": "stream",
     "text": [
      "elgoog \n"
     ]
    }
   ],
   "source": [
    "def rever(s):\n",
    "    str = ' '\n",
    "    for i in s:\n",
    "        str = i +str\n",
    "    return str\n",
    "\n",
    "s='google'\n",
    "print(rever(s))"
   ]
  },
  {
   "cell_type": "code",
   "execution_count": 101,
   "metadata": {},
   "outputs": [
    {
     "name": "stdout",
     "output_type": "stream",
     "text": [
      "unbalanced\n"
     ]
    }
   ],
   "source": [
    "op = ['(','{','[']\n",
    "close = [')','}',']']\n",
    "def chk_paren(s):\n",
    "    stk = []\n",
    "    for i in s:\n",
    "        if i in op:\n",
    "            stk.append(i)\n",
    "        elif i in close:\n",
    "            pos = close.index(i)\n",
    "            if (len(stk)>0) and (op[pos]==stk[len(stk)-1]):\n",
    "                stk.pop()\n",
    "            else:\n",
    "                return 'unbalanced'\n",
    "    if len(stk)==0:\n",
    "            return 'balance'\n",
    "        \n",
    "        \n",
    "s = \"{{[](}}\"\n",
    "print(chk_paren(s))\n",
    "\n",
    "            "
   ]
  },
  {
   "cell_type": "code",
   "execution_count": 103,
   "metadata": {},
   "outputs": [
    {
     "name": "stdout",
     "output_type": "stream",
     "text": [
      "0\n",
      "1\n",
      "2\n",
      "3\n"
     ]
    }
   ],
   "source": [
    "A = [1,2,3,4]\n",
    "for i in A:\n",
    "    ans = A.index(i)\n",
    "    print(ans)"
   ]
  },
  {
   "cell_type": "code",
   "execution_count": 117,
   "metadata": {},
   "outputs": [
    {
     "name": "stdout",
     "output_type": "stream",
     "text": [
      "True\n"
     ]
    }
   ],
   "source": [
    "def chk_palindrome(s):\n",
    "    l = 0\n",
    "    h = len(s)-1\n",
    "    while l <=h:\n",
    "        if (not s[l]>='a' and s[l]<='z'):\n",
    "            l +=1\n",
    "        elif (not s[h]>='a' and s[h]<='z'):\n",
    "              h -=1\n",
    "        elif (s[l]==s[h]):\n",
    "              l +=1\n",
    "              h-=1\n",
    "        else:\n",
    "              return False\n",
    "    return True\n",
    "  \n",
    "    \n",
    "s = 'too hot to hoot'\n",
    "print(chk_palindrome(s))"
   ]
  },
  {
   "cell_type": "code",
   "execution_count": 131,
   "metadata": {},
   "outputs": [
    {
     "name": "stdout",
     "output_type": "stream",
     "text": [
      "suni\n"
     ]
    }
   ],
   "source": [
    "def long_pref(s):\n",
    "    if not s :\n",
    "        return ''\n",
    "    min_s = min(s)\n",
    "    max_s = max(s)\n",
    "    if not min_s:\n",
    "        return ''\n",
    "    for i in range(len(min_s)):\n",
    "        if max_s[i] != min_s[i]:\n",
    "            return max_s[:i]\n",
    "    return min_s[:]\n",
    "\n",
    "s = ['sunil','suni','sunijoshi']\n",
    "ans = long_pref(s)\n",
    "print(ans)"
   ]
  },
  {
   "cell_type": "code",
   "execution_count": 149,
   "metadata": {},
   "outputs": [
    {
     "name": "stdout",
     "output_type": "stream",
     "text": [
      "55\n"
     ]
    }
   ],
   "source": [
    "def roman_int(s):\n",
    "    roman = {\n",
    "            'I': 1,\n",
    "            'V': 5,\n",
    "            'X': 10,\n",
    "            'L': 50,\n",
    "            'C': 100,\n",
    "            'D': 500,\n",
    "            'M': 1000,}\n",
    "    res = 0\n",
    "    for i,j in enumerate(s):\n",
    "        if i<len(s)-1 and roman[j]<roman[s[i+1]]:\n",
    "            res -= roman[j]\n",
    "        else:\n",
    "            res +=roman[j]\n",
    "    return res\n",
    "\n",
    "\n",
    "s = 'LV'\n",
    "print(roman_int(s))"
   ]
  },
  {
   "cell_type": "code",
   "execution_count": 170,
   "metadata": {},
   "outputs": [
    {
     "data": {
      "text/plain": [
       "('index is :', 1)"
      ]
     },
     "execution_count": 170,
     "metadata": {},
     "output_type": "execute_result"
    }
   ],
   "source": [
    "def lin_srch(A,x):\n",
    "    for i in range(0,len(A)):\n",
    "        if A[i]==x:\n",
    "            return 'index is :' ,i\n",
    "    return -1\n",
    "\n",
    "A = [1,2,3,4,5]\n",
    "lin_src(A,2)"
   ]
  },
  {
   "cell_type": "code",
   "execution_count": 200,
   "metadata": {},
   "outputs": [
    {
     "data": {
      "text/plain": [
       "11"
      ]
     },
     "execution_count": 200,
     "metadata": {},
     "output_type": "execute_result"
    }
   ],
   "source": [
    "def binary_srch(A,l,h,x):\n",
    "    while l<=h:\n",
    "        m = (l+h)//2\n",
    "        if A[m]==x:\n",
    "            return m\n",
    "        elif A[m]<x:\n",
    "            l = m+1\n",
    "        else:\n",
    "            h = m-1\n",
    "    return -1\n",
    "\n",
    "A = [1,2,3,4,5,8,9,10,11,15,16,17,20]\n",
    "x = 17\n",
    "ans = binary_srch(A,0,len(A)-1,x)\n",
    "ans        "
   ]
  },
  {
   "cell_type": "code",
   "execution_count": 207,
   "metadata": {},
   "outputs": [
    {
     "data": {
      "text/plain": [
       "[1, 1, 2, 2, 3, 4, 5, 6, 6, 8, 9]"
      ]
     },
     "execution_count": 207,
     "metadata": {},
     "output_type": "execute_result"
    }
   ],
   "source": [
    "def selction_sort(A):\n",
    "    for i in range(len(A)):\n",
    "        min_idx = i\n",
    "        for j in range(i+1,len(A)):\n",
    "            if A[min_idx] > A[j]:\n",
    "                min_idx= j\n",
    "        A[i],A[min_idx] = A[min_idx],A[i]\n",
    "    return A\n",
    "\n",
    "A = [1,4,2,5,6,8,9,2,3,6,1]\n",
    "ans = selction_sort(A)\n",
    "ans"
   ]
  },
  {
   "cell_type": "code",
   "execution_count": 214,
   "metadata": {},
   "outputs": [
    {
     "data": {
      "text/plain": [
       "[-21, -1, 0, 1, 2, 2, 3, 4, 5, 6, 6, 8, 9]"
      ]
     },
     "execution_count": 214,
     "metadata": {},
     "output_type": "execute_result"
    }
   ],
   "source": [
    "def bubble_sort(A):\n",
    "    n = len(A)\n",
    "    for i in range(n):\n",
    "        for j in range(0,n-i-1):\n",
    "            if A[j]>A[j+1]:\n",
    "                A[j],A[j+1] = A[j+1],A[j]\n",
    "    return A\n",
    "\n",
    "\n",
    "A = [0,-1,-21,4,2,5,6,8,9,2,3,6,1]\n",
    "ans = bubble_sort(A)\n",
    "ans\n",
    "\n"
   ]
  },
  {
   "cell_type": "code",
   "execution_count": null,
   "metadata": {},
   "outputs": [],
   "source": []
  },
  {
   "cell_type": "code",
   "execution_count": 325,
   "metadata": {},
   "outputs": [
    {
     "name": "stdout",
     "output_type": "stream",
     "text": [
      "hello world\n"
     ]
    }
   ],
   "source": [
    "def task1():\n",
    "    print (\"hello world\")\n",
    "\n",
    "if __name__ == '__main_':\n",
    "    task1()\n",
    "\n",
    "task1()\n",
    "    \n"
   ]
  },
  {
   "cell_type": "code",
   "execution_count": 326,
   "metadata": {},
   "outputs": [
    {
     "name": "stdout",
     "output_type": "stream",
     "text": [
      "[1, 2, 3, 4, 5]\n"
     ]
    }
   ],
   "source": [
    "def task2():\n",
    "    items = [1,2,3,4,5]\n",
    "    print(items)\n",
    "   \n",
    "task2()"
   ]
  },
  {
   "cell_type": "code",
   "execution_count": 280,
   "metadata": {},
   "outputs": [
    {
     "name": "stdout",
     "output_type": "stream",
     "text": [
      "[1,2,3,4,5,6,7,8,9,10]\n",
      "[1,2,3,4,5]\n",
      "[6,7,8,9,10]\n"
     ]
    }
   ],
   "source": [
    "with open('task3.data') as f:\n",
    "    data = f.read().split()\n",
    "    print (\"[%s]\" % (','.join(data)))\n",
    "\n",
    "\n",
    "items1 = data[0:5]\n",
    "items2 = data[5:]\n",
    "print (\"[%s]\" % (','.join(items1)))\n",
    "print (\"[%s]\" % (','.join(items2)))\n",
    "\n",
    "\n"
   ]
  },
  {
   "cell_type": "code",
   "execution_count": 14,
   "metadata": {},
   "outputs": [
    {
     "name": "stdout",
     "output_type": "stream",
     "text": [
      "school:UAlbany\n",
      "address:1400 Washington Ave, Albany, NY 12222\n",
      "phone:(518) 442-3300\n"
     ]
    }
   ],
   "source": [
    "data_dict = {'school':'UAlbany', 'address':'1400 Washington Ave, Albany, NY 12222', 'phone':'(518) 442-3300'}\n",
    "\n",
    "for key,value in data_dict.items():\n",
    "    print(key+':'+value)"
   ]
  },
  {
   "cell_type": "code",
   "execution_count": 119,
   "metadata": {},
   "outputs": [
    {
     "name": "stdout",
     "output_type": "stream",
     "text": [
      "school: UAlbany\n",
      "address: 1400 Washington Ave, Albany, NY 12222\n",
      "phone: (518) 442-3300\n"
     ]
    }
   ],
   "source": [
    "import json\n",
    "data_dict={'school':'UAlbany','address':'1400 Washington Ave, Albany, NY 12222','phone':'(518) 442-3300'}\n",
    "\n",
    "\n",
    "f=open(\"data.txt\",\"w\")\n",
    "file_string=json.dumps(data_dict)\n",
    "f.write(fileString)\n",
    "f=open(\"data.txt\",\"r\")\n",
    "file_load=json.load(f)\n",
    "for k,v in file_load.items():\n",
    "    print(k+':',v)"
   ]
  },
  {
   "cell_type": "code",
   "execution_count": 151,
   "metadata": {},
   "outputs": [
    {
     "name": "stdout",
     "output_type": "stream",
     "text": [
      "([1, 2, 3, 4, 5, 6], {'school': 'Ualbany', 'adress': '1400 Washington Ave, Albany, NY 12222', 'phone': '(518) 442-3300'})\n"
     ]
    }
   ],
   "source": [
    "import json\n",
    "import pickle\n",
    "data = {}\n",
    "data['school'] = 'Ualbany'\n",
    "data['adress'] = '1400 Washington Ave, Albany, NY 12222'\n",
    "data['phone'] = '(518) 442-3300'\n",
    "\n",
    "d = json.dumps(data)\n",
    "\n",
    "dict1 = json.loads(d)\n",
    "\n",
    "items = [1,2,3,4,5,6]\n",
    "\n",
    "\n",
    "file_open = open('task6.data','wb')\n",
    "\n",
    "pickle.dump((items,data),file_open)\n",
    "\n",
    "file_open = open('task6.data','rb')\n",
    "\n",
    "\n",
    "data = pickle.load(file_open)\n",
    "\n",
    "print(data)\n",
    "\n"
   ]
  },
  {
   "cell_type": "code",
   "execution_count": 177,
   "metadata": {},
   "outputs": [
    {
     "ename": "FileNotFoundError",
     "evalue": "[Errno 2] No such file or directory: 'CrimeReport.txt'",
     "output_type": "error",
     "traceback": [
      "\u001b[0;31m---------------------------------------------------------------------------\u001b[0m",
      "\u001b[0;31mFileNotFoundError\u001b[0m                         Traceback (most recent call last)",
      "\u001b[0;32m<ipython-input-177-fde5019aa27a>\u001b[0m in \u001b[0;36m<module>\u001b[0;34m\u001b[0m\n\u001b[1;32m      6\u001b[0m             \u001b[0mprint\u001b[0m\u001b[0;34m(\u001b[0m\u001b[0mtweet\u001b[0m\u001b[0;34m[\u001b[0m\u001b[0;34m'id'\u001b[0m\u001b[0;34m]\u001b[0m\u001b[0;34m)\u001b[0m\u001b[0;34m\u001b[0m\u001b[0;34m\u001b[0m\u001b[0m\n\u001b[1;32m      7\u001b[0m \u001b[0;34m\u001b[0m\u001b[0m\n\u001b[0;32m----> 8\u001b[0;31m \u001b[0mread_tweet\u001b[0m\u001b[0;34m(\u001b[0m\u001b[0;34m)\u001b[0m\u001b[0;34m\u001b[0m\u001b[0;34m\u001b[0m\u001b[0m\n\u001b[0m\u001b[1;32m      9\u001b[0m \u001b[0;34m\u001b[0m\u001b[0m\n\u001b[1;32m     10\u001b[0m \u001b[0;34m\u001b[0m\u001b[0m\n",
      "\u001b[0;32m<ipython-input-177-fde5019aa27a>\u001b[0m in \u001b[0;36mread_tweet\u001b[0;34m()\u001b[0m\n\u001b[1;32m      1\u001b[0m \u001b[0;32mimport\u001b[0m \u001b[0mjson\u001b[0m\u001b[0;34m\u001b[0m\u001b[0;34m\u001b[0m\u001b[0m\n\u001b[1;32m      2\u001b[0m \u001b[0;32mdef\u001b[0m \u001b[0mread_tweet\u001b[0m\u001b[0;34m(\u001b[0m\u001b[0;34m)\u001b[0m\u001b[0;34m:\u001b[0m\u001b[0;34m\u001b[0m\u001b[0;34m\u001b[0m\u001b[0m\n\u001b[0;32m----> 3\u001b[0;31m     \u001b[0;32mfor\u001b[0m \u001b[0mi\u001b[0m \u001b[0;32min\u001b[0m \u001b[0mopen\u001b[0m\u001b[0;34m(\u001b[0m\u001b[0;34m'CrimeReport.txt'\u001b[0m\u001b[0;34m)\u001b[0m\u001b[0;34m.\u001b[0m\u001b[0mreadlines\u001b[0m\u001b[0;34m(\u001b[0m\u001b[0;34m)\u001b[0m\u001b[0;34m:\u001b[0m\u001b[0;34m\u001b[0m\u001b[0;34m\u001b[0m\u001b[0m\n\u001b[0m\u001b[1;32m      4\u001b[0m         \u001b[0mtweet\u001b[0m \u001b[0;34m=\u001b[0m \u001b[0mjson\u001b[0m\u001b[0;34m.\u001b[0m\u001b[0mloads\u001b[0m\u001b[0;34m(\u001b[0m\u001b[0mi\u001b[0m\u001b[0;34m)\u001b[0m\u001b[0;34m\u001b[0m\u001b[0;34m\u001b[0m\u001b[0m\n\u001b[1;32m      5\u001b[0m         \u001b[0;32mif\u001b[0m \u001b[0mtweet\u001b[0m\u001b[0;34m[\u001b[0m\u001b[0;34m'id'\u001b[0m\u001b[0;34m]\u001b[0m\u001b[0;34m:\u001b[0m\u001b[0;34m\u001b[0m\u001b[0;34m\u001b[0m\u001b[0m\n",
      "\u001b[0;31mFileNotFoundError\u001b[0m: [Errno 2] No such file or directory: 'CrimeReport.txt'"
     ]
    }
   ],
   "source": [
    "import json\n",
    "def read_tweet():\n",
    "    for i in open('CrimeReport.txt').readlines():\n",
    "        tweet = json.loads(i)\n",
    "        if tweet['id']:\n",
    "            print(tweet['id'])\n",
    "            \n",
    "read_tweet()\n",
    "            \n",
    "    \n",
    "            \n",
    "        \n"
   ]
  },
  {
   "cell_type": "code",
   "execution_count": 323,
   "metadata": {},
   "outputs": [
    {
     "ename": "SyntaxError",
     "evalue": "EOL while scanning string literal (<ipython-input-323-b4407878210f>, line 10)",
     "output_type": "error",
     "traceback": [
      "\u001b[0;36m  File \u001b[0;32m\"<ipython-input-323-b4407878210f>\"\u001b[0;36m, line \u001b[0;32m10\u001b[0m\n\u001b[0;31m    datetime.datetime.striptime(tweet['created_at'],'%a %b %d %H:%M:%S +0000 %Y’)\u001b[0m\n\u001b[0m                                                                                 ^\u001b[0m\n\u001b[0;31mSyntaxError\u001b[0m\u001b[0;31m:\u001b[0m EOL while scanning string literal\n"
     ]
    }
   ],
   "source": [
    "from datetime import datetime\n",
    "import json\n",
    "\n",
    "tweets = [ ]\n",
    "for i in open ('CrimeReport.txt').readlines():\n",
    "    tweet = json.loads(i)\n",
    "    if tweet['created_at']:\n",
    "        tweets.append(tweet)\n",
    "    sorted_tweets = sorted(tweets,key = lambda tweet : \n",
    "                       datetime.datetime.striptime(tweet['created_at'],'%a %b %d %H:%M:%S +0000 %Y’)\n",
    "                                                                              \n",
    "f  = open('task8.data','w')\n",
    "                                                   \n",
    "for tweet in sorted.tweets[-10:]:\n",
    "      print(tweet['id'])                                             \n",
    "                                                   \n",
    "      f.write(json.dumps(tweet)+'\\n')\n",
    "                                                   \n",
    "                                                   \n",
    "f.close()\n",
    "                                                   \n",
    "                                                   \n"
   ]
  },
  {
   "cell_type": "code",
   "execution_count": 213,
   "metadata": {},
   "outputs": [
    {
     "ename": "FileNotFoundError",
     "evalue": "[Errno 2] No such file or directory: 'CrimeReport.txt'",
     "output_type": "error",
     "traceback": [
      "\u001b[0;31m---------------------------------------------------------------------------\u001b[0m",
      "\u001b[0;31mFileNotFoundError\u001b[0m                         Traceback (most recent call last)",
      "\u001b[0;32m<ipython-input-213-5d7311b22732>\u001b[0m in \u001b[0;36m<module>\u001b[0;34m\u001b[0m\n\u001b[1;32m     17\u001b[0m     \u001b[0mf\u001b[0m\u001b[0;34m.\u001b[0m\u001b[0mclose\u001b[0m\u001b[0;34m(\u001b[0m\u001b[0;34m)\u001b[0m\u001b[0;34m\u001b[0m\u001b[0;34m\u001b[0m\u001b[0m\n\u001b[1;32m     18\u001b[0m \u001b[0;34m\u001b[0m\u001b[0m\n\u001b[0;32m---> 19\u001b[0;31m \u001b[0mday_time_hour\u001b[0m\u001b[0;34m(\u001b[0m\u001b[0;34m)\u001b[0m\u001b[0;34m\u001b[0m\u001b[0;34m\u001b[0m\u001b[0m\n\u001b[0m",
      "\u001b[0;32m<ipython-input-213-5d7311b22732>\u001b[0m in \u001b[0;36mday_time_hour\u001b[0;34m()\u001b[0m\n\u001b[1;32m      6\u001b[0m     \u001b[0;32mif\u001b[0m \u001b[0;32mnot\u001b[0m \u001b[0mos\u001b[0m\u001b[0;34m.\u001b[0m\u001b[0mpath\u001b[0m\u001b[0;34m.\u001b[0m\u001b[0mexists\u001b[0m\u001b[0;34m(\u001b[0m\u001b[0;34m'task9-output'\u001b[0m\u001b[0;34m)\u001b[0m\u001b[0;34m:\u001b[0m\u001b[0;34m\u001b[0m\u001b[0;34m\u001b[0m\u001b[0m\n\u001b[1;32m      7\u001b[0m         \u001b[0mos\u001b[0m\u001b[0;34m.\u001b[0m\u001b[0mmakedirs\u001b[0m\u001b[0;34m(\u001b[0m\u001b[0;34m'task9-output'\u001b[0m\u001b[0;34m)\u001b[0m\u001b[0;34m\u001b[0m\u001b[0;34m\u001b[0m\u001b[0m\n\u001b[0;32m----> 8\u001b[0;31m     \u001b[0;32mfor\u001b[0m \u001b[0mi\u001b[0m \u001b[0;32min\u001b[0m \u001b[0mopen\u001b[0m\u001b[0;34m(\u001b[0m\u001b[0;34m'CrimeReport.txt'\u001b[0m\u001b[0;34m)\u001b[0m\u001b[0;34m.\u001b[0m\u001b[0mreadlines\u001b[0m\u001b[0;34m(\u001b[0m\u001b[0;34m)\u001b[0m\u001b[0;34m:\u001b[0m\u001b[0;34m\u001b[0m\u001b[0;34m\u001b[0m\u001b[0m\n\u001b[0m\u001b[1;32m      9\u001b[0m         \u001b[0mtweet\u001b[0m \u001b[0;34m=\u001b[0m \u001b[0mjson\u001b[0m\u001b[0;34m.\u001b[0m\u001b[0mloads\u001b[0m\u001b[0;34m(\u001b[0m\u001b[0mi\u001b[0m\u001b[0;34m)\u001b[0m\u001b[0;34m\u001b[0m\u001b[0;34m\u001b[0m\u001b[0m\n\u001b[1;32m     10\u001b[0m         \u001b[0;32mif\u001b[0m \u001b[0mtweet\u001b[0m\u001b[0;34m[\u001b[0m\u001b[0;34m'created_at'\u001b[0m\u001b[0;34m]\u001b[0m\u001b[0;34m:\u001b[0m\u001b[0;34m\u001b[0m\u001b[0;34m\u001b[0m\u001b[0m\n",
      "\u001b[0;31mFileNotFoundError\u001b[0m: [Errno 2] No such file or directory: 'CrimeReport.txt'"
     ]
    }
   ],
   "source": [
    "import datetime\n",
    "import json\n",
    "import os\n",
    "def day_time_hour():\n",
    "    tweets = []\n",
    "    if not os.path.exists('task9-output'):\n",
    "        os.makedirs('task9-output')\n",
    "    for i in open('CrimeReport.txt').readlines():\n",
    "        tweet = json.loads(i)\n",
    "        if tweet['created_at']:\n",
    "            tweets.append(tweet)\n",
    "    date = datetime.datetime.strptime(tweet['created_at'], '%a %b %d %H:%M:%S +0000 %Y')\n",
    "    file_name = str(date.month)+':'+str(date.day)+ ':' + str(date.year)+ ':'+str(date.hour)+\".txt\"\n",
    "    f = open(os.path.join('task9-output',file_name),'a')\n",
    "    f.write(tweet['text'].encode('utf-8').strip())\n",
    "    f.write('\\n')\n",
    "    f.close()\n",
    "    \n",
    "day_time_hour()"
   ]
  },
  {
   "cell_type": "code",
   "execution_count": 315,
   "metadata": {},
   "outputs": [
    {
     "ename": "ModuleNotFoundError",
     "evalue": "No module named 'pattern'",
     "output_type": "error",
     "traceback": [
      "\u001b[0;31m---------------------------------------------------------------------------\u001b[0m",
      "\u001b[0;31mModuleNotFoundError\u001b[0m                       Traceback (most recent call last)",
      "\u001b[0;32m<ipython-input-315-764ec6b657f2>\u001b[0m in \u001b[0;36m<module>\u001b[0;34m\u001b[0m\n\u001b[1;32m      1\u001b[0m \u001b[0;32mimport\u001b[0m \u001b[0mjson\u001b[0m\u001b[0;34m\u001b[0m\u001b[0;34m\u001b[0m\u001b[0m\n\u001b[0;32m----> 2\u001b[0;31m \u001b[0;32mfrom\u001b[0m \u001b[0mpattern\u001b[0m\u001b[0;34m.\u001b[0m\u001b[0men\u001b[0m \u001b[0;32mimport\u001b[0m \u001b[0mpositive\u001b[0m\u001b[0;34m\u001b[0m\u001b[0;34m\u001b[0m\u001b[0m\n\u001b[0m\u001b[1;32m      3\u001b[0m \u001b[0mfile_1\u001b[0m \u001b[0;34m=\u001b[0m \u001b[0mopen\u001b[0m\u001b[0;34m(\u001b[0m\u001b[0;34m'CrimeReport.txt'\u001b[0m\u001b[0;34m,\u001b[0m\u001b[0;34m'r'\u001b[0m\u001b[0;34m)\u001b[0m\u001b[0;34m\u001b[0m\u001b[0;34m\u001b[0m\u001b[0m\n\u001b[1;32m      4\u001b[0m \u001b[0mpos\u001b[0m \u001b[0;34m=\u001b[0m \u001b[0mopen\u001b[0m\u001b[0;34m(\u001b[0m\u001b[0;34m'positive-tweets'\u001b[0m\u001b[0;34m,\u001b[0m\u001b[0;34m'a+'\u001b[0m\u001b[0;34m)\u001b[0m\u001b[0;34m\u001b[0m\u001b[0;34m\u001b[0m\u001b[0m\n\u001b[1;32m      5\u001b[0m \u001b[0mneg\u001b[0m \u001b[0;34m=\u001b[0m \u001b[0mopen\u001b[0m\u001b[0;34m(\u001b[0m\u001b[0;34m'negative-tweets'\u001b[0m\u001b[0;34m,\u001b[0m\u001b[0;34m'a+'\u001b[0m\u001b[0;34m)\u001b[0m\u001b[0;34m\u001b[0m\u001b[0;34m\u001b[0m\u001b[0m\n",
      "\u001b[0;31mModuleNotFoundError\u001b[0m: No module named 'pattern'"
     ]
    }
   ],
   "source": [
    "import json\n",
    "from pattern.en import positive\n",
    "file_1 = open('CrimeReport.txt','r')\n",
    "pos = open('positive-tweets','a+')\n",
    "neg = open('negative-tweets','a+')\n",
    "tweets = []\n",
    "for tweet in file_1.readlines():\n",
    "    tweets.append(josn.loads(tweet))\n",
    "for i in tweets:\n",
    "    if(positive(i['text'],threshold = 0.2)):\n",
    "        pos.write(josn.dumps(i))\n",
    "    else:\n",
    "        neg.write(json.dumps(i))\n",
    "file_1.close()\n",
    "pos.close()\n",
    "neg.close()"
   ]
  },
  {
   "cell_type": "code",
   "execution_count": 384,
   "metadata": {},
   "outputs": [
    {
     "name": "stdout",
     "output_type": "stream",
     "text": [
      "1\n",
      "2\n",
      "3\n"
     ]
    }
   ],
   "source": [
    "def insert_sort(A):\n",
    "    for i in range(1,len(A)):\n",
    "        temp = A[i]\n",
    "        j = i\n",
    "        while j>0 and temp<A[j-1]:\n",
    "            A[j] = A[j-1]\n",
    "            j-=1\n",
    "        A[j] = temp\n",
    "        \n",
    "        \n",
    "A= [3,1,2]\n",
    "insert_sort(A)\n",
    "for i in range(len(A)):\n",
    "    print(A[i])"
   ]
  },
  {
   "cell_type": "code",
   "execution_count": 404,
   "metadata": {},
   "outputs": [
    {
     "ename": "TypeError",
     "evalue": "object of type 'NoneType' has no len()",
     "output_type": "error",
     "traceback": [
      "\u001b[0;31m---------------------------------------------------------------------------\u001b[0m",
      "\u001b[0;31mTypeError\u001b[0m                                 Traceback (most recent call last)",
      "\u001b[0;32m<ipython-input-404-cd273fa24b5f>\u001b[0m in \u001b[0;36m<module>\u001b[0;34m\u001b[0m\n\u001b[1;32m     30\u001b[0m \u001b[0mA\u001b[0m \u001b[0;34m=\u001b[0m \u001b[0;34m[\u001b[0m\u001b[0;36m3\u001b[0m\u001b[0;34m,\u001b[0m\u001b[0;36m2\u001b[0m\u001b[0;34m,\u001b[0m\u001b[0;36m5\u001b[0m\u001b[0;34m,\u001b[0m\u001b[0;36m6\u001b[0m\u001b[0;34m,\u001b[0m\u001b[0;36m73\u001b[0m\u001b[0;34m,\u001b[0m\u001b[0;36m1\u001b[0m\u001b[0;34m,\u001b[0m\u001b[0;36m0\u001b[0m\u001b[0;34m]\u001b[0m\u001b[0;34m\u001b[0m\u001b[0;34m\u001b[0m\u001b[0m\n\u001b[1;32m     31\u001b[0m \u001b[0mans\u001b[0m \u001b[0;34m=\u001b[0m \u001b[0mmerge_sort\u001b[0m\u001b[0;34m(\u001b[0m\u001b[0mA\u001b[0m\u001b[0;34m)\u001b[0m\u001b[0;34m\u001b[0m\u001b[0;34m\u001b[0m\u001b[0m\n\u001b[0;32m---> 32\u001b[0;31m \u001b[0mprint_arr\u001b[0m\u001b[0;34m(\u001b[0m\u001b[0mans\u001b[0m\u001b[0;34m)\u001b[0m\u001b[0;34m\u001b[0m\u001b[0;34m\u001b[0m\u001b[0m\n\u001b[0m",
      "\u001b[0;32m<ipython-input-404-cd273fa24b5f>\u001b[0m in \u001b[0;36mprint_arr\u001b[0;34m(A)\u001b[0m\n\u001b[1;32m     25\u001b[0m \u001b[0;34m\u001b[0m\u001b[0m\n\u001b[1;32m     26\u001b[0m \u001b[0;32mdef\u001b[0m \u001b[0mprint_arr\u001b[0m\u001b[0;34m(\u001b[0m\u001b[0mA\u001b[0m\u001b[0;34m)\u001b[0m\u001b[0;34m:\u001b[0m\u001b[0;34m\u001b[0m\u001b[0;34m\u001b[0m\u001b[0m\n\u001b[0;32m---> 27\u001b[0;31m     \u001b[0;32mfor\u001b[0m \u001b[0mi\u001b[0m \u001b[0;32min\u001b[0m \u001b[0mrange\u001b[0m\u001b[0;34m(\u001b[0m\u001b[0mlen\u001b[0m\u001b[0;34m(\u001b[0m\u001b[0mA\u001b[0m\u001b[0;34m)\u001b[0m\u001b[0;34m)\u001b[0m\u001b[0;34m:\u001b[0m\u001b[0;34m\u001b[0m\u001b[0;34m\u001b[0m\u001b[0m\n\u001b[0m\u001b[1;32m     28\u001b[0m         \u001b[0mprint\u001b[0m\u001b[0;34m(\u001b[0m\u001b[0mA\u001b[0m\u001b[0;34m[\u001b[0m\u001b[0mi\u001b[0m\u001b[0;34m]\u001b[0m\u001b[0;34m)\u001b[0m\u001b[0;34m\u001b[0m\u001b[0;34m\u001b[0m\u001b[0m\n\u001b[1;32m     29\u001b[0m \u001b[0;34m\u001b[0m\u001b[0m\n",
      "\u001b[0;31mTypeError\u001b[0m: object of type 'NoneType' has no len()"
     ]
    }
   ],
   "source": [
    "def merge_sort(A):\n",
    "    if len(A)<1:\n",
    "        m = len(A)//2\n",
    "        l = A[:m]\n",
    "        r = A[m:]\n",
    "        merge_sort(l)\n",
    "        merge_sort(r)\n",
    "        i = j = k = 0\n",
    "        while i < len(l) and j < len(r):\n",
    "            if l[i] < r[j]:\n",
    "                A[k] = l[i]\n",
    "                l+=1\n",
    "            else:\n",
    "                A[k] = r[j]\n",
    "                j+=1\n",
    "            k +=1\n",
    "        while i < len(l):\n",
    "            A[k] = l[i]\n",
    "            i+=1\n",
    "            k+=1\n",
    "        while j < len(r):\n",
    "            A[k] = r[j]\n",
    "            j+=1\n",
    "            k+=1\n",
    "\n",
    "def print_arr(A):\n",
    "    for i in range(len(A)):\n",
    "        print(A[i])\n",
    "            \n",
    "A = [3,2,5,6,73,1,0]\n",
    "ans = merge_sort(A)\n"
   ]
  },
  {
   "cell_type": "code",
   "execution_count": 407,
   "metadata": {},
   "outputs": [],
   "source": [
    "def sum_k(A,n):\n",
    "    k = 0\n",
    "    for i in range(0,n):\n",
    "        for j in range(0,i+1):\n",
    "            if A[i]+A[j]==k:\n",
    "                return True\n",
    "    return False\n",
    "\n",
    "\n",
    "    "
   ]
  },
  {
   "cell_type": "code",
   "execution_count": 423,
   "metadata": {},
   "outputs": [
    {
     "name": "stdout",
     "output_type": "stream",
     "text": [
      "2 -6 1 None\n"
     ]
    }
   ],
   "source": [
    "def find_grt(A,n):\n",
    "    for i in range(n):\n",
    "        cnt = 0\n",
    "        for j in range(0,n):\n",
    "            if A[j]> A[i]:\n",
    "                cnt = cnt+1\n",
    "        if cnt >=2:\n",
    "            print(A[i],end = ' ')\n",
    "                \n",
    "A = [2, -6 ,3 , 5, 1]\n",
    "n =len(A)\n",
    "ans = find_grt(A,n)\n",
    "print(ans)"
   ]
  },
  {
   "cell_type": "code",
   "execution_count": 434,
   "metadata": {},
   "outputs": [
    {
     "name": "stdout",
     "output_type": "stream",
     "text": [
      "1 8 2 7 0 0 "
     ]
    }
   ],
   "source": [
    "def rearr_sl(A,n):\n",
    "    A.sort()\n",
    "    temp = [0]*(n+1)\n",
    "    idx =0\n",
    "    i = 0\n",
    "    j = n-1\n",
    "    while i <= n//2 and j > n//2:\n",
    "        temp[idx] = A[i]\n",
    "        idx = idx +1\n",
    "        temp[idx] = A[j]\n",
    "        idx = idx +1\n",
    "        i = i+1\n",
    "        j = j-1\n",
    "        \n",
    "    for i in range(0,n):\n",
    "        A[i] = temp[i]\n",
    "\n",
    "        \n",
    "A = [1,4,5,7,8,2]\n",
    "n = len(A)\n",
    "rearr_sl(A,n)\n",
    "for i in range(0,n):\n",
    "    print(A[i],end = ' ') "
   ]
  },
  {
   "cell_type": "code",
   "execution_count": null,
   "metadata": {},
   "outputs": [],
   "source": []
  },
  {
   "cell_type": "code",
   "execution_count": null,
   "metadata": {},
   "outputs": [],
   "source": []
  },
  {
   "cell_type": "code",
   "execution_count": null,
   "metadata": {},
   "outputs": [],
   "source": []
  },
  {
   "cell_type": "code",
   "execution_count": null,
   "metadata": {},
   "outputs": [],
   "source": []
  },
  {
   "cell_type": "code",
   "execution_count": null,
   "metadata": {},
   "outputs": [],
   "source": []
  },
  {
   "cell_type": "code",
   "execution_count": null,
   "metadata": {},
   "outputs": [],
   "source": []
  },
  {
   "cell_type": "code",
   "execution_count": null,
   "metadata": {},
   "outputs": [],
   "source": []
  },
  {
   "cell_type": "code",
   "execution_count": null,
   "metadata": {},
   "outputs": [],
   "source": []
  },
  {
   "cell_type": "code",
   "execution_count": null,
   "metadata": {},
   "outputs": [],
   "source": []
  },
  {
   "cell_type": "code",
   "execution_count": null,
   "metadata": {},
   "outputs": [],
   "source": []
  },
  {
   "cell_type": "code",
   "execution_count": null,
   "metadata": {},
   "outputs": [],
   "source": []
  },
  {
   "cell_type": "code",
   "execution_count": null,
   "metadata": {},
   "outputs": [],
   "source": []
  },
  {
   "cell_type": "code",
   "execution_count": null,
   "metadata": {},
   "outputs": [],
   "source": []
  },
  {
   "cell_type": "code",
   "execution_count": null,
   "metadata": {},
   "outputs": [],
   "source": []
  },
  {
   "cell_type": "code",
   "execution_count": null,
   "metadata": {},
   "outputs": [],
   "source": []
  },
  {
   "cell_type": "code",
   "execution_count": null,
   "metadata": {},
   "outputs": [],
   "source": []
  },
  {
   "cell_type": "code",
   "execution_count": null,
   "metadata": {},
   "outputs": [],
   "source": []
  },
  {
   "cell_type": "code",
   "execution_count": null,
   "metadata": {},
   "outputs": [],
   "source": []
  },
  {
   "cell_type": "code",
   "execution_count": null,
   "metadata": {},
   "outputs": [],
   "source": []
  },
  {
   "cell_type": "code",
   "execution_count": null,
   "metadata": {},
   "outputs": [],
   "source": []
  },
  {
   "cell_type": "code",
   "execution_count": null,
   "metadata": {},
   "outputs": [],
   "source": []
  },
  {
   "cell_type": "code",
   "execution_count": null,
   "metadata": {},
   "outputs": [],
   "source": []
  },
  {
   "cell_type": "code",
   "execution_count": null,
   "metadata": {},
   "outputs": [],
   "source": []
  },
  {
   "cell_type": "code",
   "execution_count": null,
   "metadata": {},
   "outputs": [],
   "source": []
  },
  {
   "cell_type": "code",
   "execution_count": null,
   "metadata": {},
   "outputs": [],
   "source": []
  },
  {
   "cell_type": "code",
   "execution_count": null,
   "metadata": {},
   "outputs": [],
   "source": []
  },
  {
   "cell_type": "code",
   "execution_count": null,
   "metadata": {},
   "outputs": [],
   "source": []
  },
  {
   "cell_type": "code",
   "execution_count": null,
   "metadata": {},
   "outputs": [],
   "source": []
  },
  {
   "cell_type": "code",
   "execution_count": null,
   "metadata": {},
   "outputs": [],
   "source": []
  },
  {
   "cell_type": "code",
   "execution_count": null,
   "metadata": {},
   "outputs": [],
   "source": []
  },
  {
   "cell_type": "code",
   "execution_count": null,
   "metadata": {},
   "outputs": [],
   "source": []
  },
  {
   "cell_type": "code",
   "execution_count": null,
   "metadata": {},
   "outputs": [],
   "source": []
  },
  {
   "cell_type": "code",
   "execution_count": null,
   "metadata": {},
   "outputs": [],
   "source": []
  },
  {
   "cell_type": "code",
   "execution_count": null,
   "metadata": {},
   "outputs": [],
   "source": []
  },
  {
   "cell_type": "code",
   "execution_count": null,
   "metadata": {},
   "outputs": [],
   "source": []
  },
  {
   "cell_type": "code",
   "execution_count": null,
   "metadata": {},
   "outputs": [],
   "source": []
  },
  {
   "cell_type": "code",
   "execution_count": null,
   "metadata": {},
   "outputs": [],
   "source": []
  },
  {
   "cell_type": "code",
   "execution_count": null,
   "metadata": {},
   "outputs": [],
   "source": []
  },
  {
   "cell_type": "code",
   "execution_count": null,
   "metadata": {},
   "outputs": [],
   "source": []
  },
  {
   "cell_type": "code",
   "execution_count": null,
   "metadata": {},
   "outputs": [],
   "source": []
  },
  {
   "cell_type": "code",
   "execution_count": null,
   "metadata": {},
   "outputs": [],
   "source": []
  },
  {
   "cell_type": "code",
   "execution_count": null,
   "metadata": {},
   "outputs": [],
   "source": []
  },
  {
   "cell_type": "code",
   "execution_count": null,
   "metadata": {},
   "outputs": [],
   "source": []
  },
  {
   "cell_type": "code",
   "execution_count": null,
   "metadata": {},
   "outputs": [],
   "source": []
  },
  {
   "cell_type": "code",
   "execution_count": null,
   "metadata": {},
   "outputs": [],
   "source": []
  },
  {
   "cell_type": "code",
   "execution_count": null,
   "metadata": {},
   "outputs": [],
   "source": []
  },
  {
   "cell_type": "code",
   "execution_count": null,
   "metadata": {},
   "outputs": [],
   "source": []
  },
  {
   "cell_type": "code",
   "execution_count": null,
   "metadata": {},
   "outputs": [],
   "source": []
  },
  {
   "cell_type": "code",
   "execution_count": null,
   "metadata": {},
   "outputs": [],
   "source": []
  },
  {
   "cell_type": "code",
   "execution_count": null,
   "metadata": {},
   "outputs": [],
   "source": []
  },
  {
   "cell_type": "code",
   "execution_count": null,
   "metadata": {},
   "outputs": [],
   "source": []
  },
  {
   "cell_type": "code",
   "execution_count": null,
   "metadata": {},
   "outputs": [],
   "source": []
  },
  {
   "cell_type": "code",
   "execution_count": null,
   "metadata": {},
   "outputs": [],
   "source": []
  },
  {
   "cell_type": "code",
   "execution_count": null,
   "metadata": {},
   "outputs": [],
   "source": []
  },
  {
   "cell_type": "code",
   "execution_count": null,
   "metadata": {},
   "outputs": [],
   "source": []
  },
  {
   "cell_type": "code",
   "execution_count": null,
   "metadata": {},
   "outputs": [],
   "source": []
  },
  {
   "cell_type": "code",
   "execution_count": null,
   "metadata": {},
   "outputs": [],
   "source": []
  },
  {
   "cell_type": "code",
   "execution_count": null,
   "metadata": {},
   "outputs": [],
   "source": []
  },
  {
   "cell_type": "code",
   "execution_count": null,
   "metadata": {},
   "outputs": [],
   "source": []
  },
  {
   "cell_type": "code",
   "execution_count": null,
   "metadata": {},
   "outputs": [],
   "source": []
  },
  {
   "cell_type": "code",
   "execution_count": null,
   "metadata": {},
   "outputs": [],
   "source": []
  },
  {
   "cell_type": "code",
   "execution_count": null,
   "metadata": {},
   "outputs": [],
   "source": []
  },
  {
   "cell_type": "code",
   "execution_count": null,
   "metadata": {},
   "outputs": [],
   "source": []
  },
  {
   "cell_type": "code",
   "execution_count": null,
   "metadata": {},
   "outputs": [],
   "source": []
  },
  {
   "cell_type": "code",
   "execution_count": null,
   "metadata": {},
   "outputs": [],
   "source": []
  },
  {
   "cell_type": "code",
   "execution_count": null,
   "metadata": {},
   "outputs": [],
   "source": []
  },
  {
   "cell_type": "code",
   "execution_count": null,
   "metadata": {},
   "outputs": [],
   "source": []
  },
  {
   "cell_type": "code",
   "execution_count": null,
   "metadata": {},
   "outputs": [],
   "source": []
  }
 ],
 "metadata": {
  "kernelspec": {
   "display_name": "Python 3",
   "language": "python",
   "name": "python3"
  },
  "language_info": {
   "codemirror_mode": {
    "name": "ipython",
    "version": 3
   },
   "file_extension": ".py",
   "mimetype": "text/x-python",
   "name": "python",
   "nbconvert_exporter": "python",
   "pygments_lexer": "ipython3",
   "version": "3.7.2"
  }
 },
 "nbformat": 4,
 "nbformat_minor": 2
}
