{
 "cells": [
  {
   "cell_type": "code",
   "execution_count": 6,
   "metadata": {},
   "outputs": [
    {
     "name": "stdout",
     "output_type": "stream",
     "text": [
      "[]\n"
     ]
    },
    {
     "data": {
      "text/plain": [
       "[1, 3]"
      ]
     },
     "execution_count": 6,
     "metadata": {},
     "output_type": "execute_result"
    }
   ],
   "source": [
    "#### two number sum using 2 pointer technique\n",
    "def two_num_sum(A,k):\n",
    "    A.sort()\n",
    "    l = 0\n",
    "    r =len(A)-1\n",
    "    while l < r:\n",
    "        cur_sum = A[l]+A[r]\n",
    "        if cur_sum == k:\n",
    "            return [A[l], A[r]]\n",
    "        elif cur_sum < k:\n",
    "            l +=1\n",
    "        elif cur_sum > k:\n",
    "            r -=1\n",
    "    return []\n",
    "\n",
    "A = [1,3,4,5,8]\n",
    "\n",
    "print(two_num_sum(A,2))\n",
    "two_num_sum(A,4)\n",
    "   "
   ]
  },
  {
   "cell_type": "code",
   "execution_count": 9,
   "metadata": {},
   "outputs": [
    {
     "data": {
      "text/plain": [
       "9"
      ]
     },
     "execution_count": 9,
     "metadata": {},
     "output_type": "execute_result"
    }
   ],
   "source": [
    "### find max and min ele in array\n",
    "def max_ele(A):\n",
    "    max_ = A[0]\n",
    "    for i in range(0,len(A)):\n",
    "        if max_ < A[i]:\n",
    "            max_  = A[i]\n",
    "    return max_\n",
    "max_ele([1,4,5,7,9])\n",
    "            "
   ]
  },
  {
   "cell_type": "code",
   "execution_count": 14,
   "metadata": {},
   "outputs": [
    {
     "data": {
      "text/plain": [
       "4"
      ]
     },
     "execution_count": 14,
     "metadata": {},
     "output_type": "execute_result"
    }
   ],
   "source": [
    "def min_ele(A):\n",
    "    min_ = A[0]\n",
    "    for i in range(0,len(A)):\n",
    "        if min_ > A[i]:\n",
    "            min_  = A[i]\n",
    "        return min_\n",
    "min_ele([4,7,8,])"
   ]
  },
  {
   "cell_type": "code",
   "execution_count": 29,
   "metadata": {},
   "outputs": [
    {
     "data": {
      "text/plain": [
       "[9, 7, 2]"
      ]
     },
     "execution_count": 29,
     "metadata": {},
     "output_type": "execute_result"
    }
   ],
   "source": [
    "### find 3 largest elements in array\n",
    "\n",
    "import sys\n",
    "\n",
    "def max_3_ele(A):\n",
    "    \n",
    "    if len(A)<3:\n",
    "        return 'invalid'\n",
    "    third = second = first = -sys.maxsize\n",
    "    for i in range(0,len(A)):\n",
    "        if A[i]> first:\n",
    "            third = second\n",
    "            second = first\n",
    "            first =A[i]\n",
    "        elif A[i]> second:\n",
    "            third = second\n",
    "            second = A[i]\n",
    "        else:\n",
    "            third = A[i]\n",
    "    return [first , second, third]\n",
    "\n",
    "max_3_ele([1,4,6,3,7,9,2])\n"
   ]
  },
  {
   "cell_type": "code",
   "execution_count": 39,
   "metadata": {},
   "outputs": [
    {
     "name": "stdout",
     "output_type": "stream",
     "text": [
      "1 1\n",
      "2 2\n",
      "3 2\n",
      "5 2\n",
      "6 1\n",
      "4 1\n"
     ]
    }
   ],
   "source": [
    "### count frequency of elements in array using dictionary key value pairs\n",
    "\n",
    "def count_freq(A):\n",
    "    n = len(A)\n",
    "    fre = {}\n",
    "    for i in range(n):\n",
    "        if A[i] in fre.keys():\n",
    "            fre[A[i]] +=1\n",
    "        else:\n",
    "            fre[A[i]] =1\n",
    "    for j in fre:\n",
    "        print(j , fre[j])\n",
    "A = [1,2,2,3,5,6,4,5,3]\n",
    "count_freq(A)"
   ]
  },
  {
   "cell_type": "code",
   "execution_count": 44,
   "metadata": {},
   "outputs": [
    {
     "data": {
      "text/plain": [
       "3.75"
      ]
     },
     "execution_count": 44,
     "metadata": {},
     "output_type": "execute_result"
    }
   ],
   "source": [
    "### mean and median of the array\n",
    "def mean(A):\n",
    "    sum = 0\n",
    "    for i in range(0,len(A)):\n",
    "        sum += A[i]\n",
    "    return float(sum/len(A))\n",
    "    \n",
    "mean([1,3,5,6])\n",
    "        "
   ]
  },
  {
   "cell_type": "code",
   "execution_count": 61,
   "metadata": {},
   "outputs": [
    {
     "data": {
      "text/plain": [
       "5.5"
      ]
     },
     "execution_count": 61,
     "metadata": {},
     "output_type": "execute_result"
    }
   ],
   "source": [
    "def median(A):\n",
    "    sorted(A)\n",
    "    n = len(A)\n",
    "    if n%2 != 0:\n",
    "        return float(A[n/2])\n",
    "    return float((A[int((n-1)/2)] + A[int(n/2)])/2.0)\n",
    "median([1,3,5,6,7,8])"
   ]
  },
  {
   "cell_type": "code",
   "execution_count": null,
   "metadata": {},
   "outputs": [],
   "source": []
  },
  {
   "cell_type": "code",
   "execution_count": null,
   "metadata": {},
   "outputs": [],
   "source": []
  },
  {
   "cell_type": "code",
   "execution_count": null,
   "metadata": {},
   "outputs": [],
   "source": []
  },
  {
   "cell_type": "code",
   "execution_count": null,
   "metadata": {},
   "outputs": [],
   "source": []
  },
  {
   "cell_type": "code",
   "execution_count": null,
   "metadata": {},
   "outputs": [],
   "source": []
  },
  {
   "cell_type": "code",
   "execution_count": null,
   "metadata": {},
   "outputs": [],
   "source": []
  }
 ],
 "metadata": {
  "kernelspec": {
   "display_name": "Python 3",
   "language": "python",
   "name": "python3"
  },
  "language_info": {
   "codemirror_mode": {
    "name": "ipython",
    "version": 3
   },
   "file_extension": ".py",
   "mimetype": "text/x-python",
   "name": "python",
   "nbconvert_exporter": "python",
   "pygments_lexer": "ipython3",
   "version": "3.7.2"
  }
 },
 "nbformat": 4,
 "nbformat_minor": 2
}
